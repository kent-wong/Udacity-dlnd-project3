{
 "cells": [
  {
   "cell_type": "markdown",
   "metadata": {},
   "source": [
    "# TV Script Generation\n",
    "In this project, you'll generate your own [Simpsons](https://en.wikipedia.org/wiki/The_Simpsons) TV scripts using RNNs.  You'll be using part of the [Simpsons dataset](https://www.kaggle.com/wcukierski/the-simpsons-by-the-data) of scripts from 27 seasons.  The Neural Network you'll build will generate a new TV script for a scene at [Moe's Tavern](https://simpsonswiki.com/wiki/Moe's_Tavern).\n",
    "## Get the Data\n",
    "The data is already provided for you.  You'll be using a subset of the original dataset.  It consists of only the scenes in Moe's Tavern.  This doesn't include other versions of the tavern, like \"Moe's Cavern\", \"Flaming Moe's\", \"Uncle Moe's Family Feed-Bag\", etc.."
   ]
  },
  {
   "cell_type": "code",
   "execution_count": 1,
   "metadata": {
    "collapsed": true
   },
   "outputs": [],
   "source": [
    "\"\"\"\n",
    "DON'T MODIFY ANYTHING IN THIS CELL\n",
    "\"\"\"\n",
    "import helper\n",
    "\n",
    "data_dir = './data/simpsons/moes_tavern_lines.txt'\n",
    "text = helper.load_data(data_dir)\n",
    "# Ignore notice, since we don't use it for analysing the data\n",
    "text = text[81:]"
   ]
  },
  {
   "cell_type": "markdown",
   "metadata": {},
   "source": [
    "## Explore the Data\n",
    "Play around with `view_sentence_range` to view different parts of the data."
   ]
  },
  {
   "cell_type": "code",
   "execution_count": 2,
   "metadata": {},
   "outputs": [
    {
     "name": "stdout",
     "output_type": "stream",
     "text": [
      "Dataset Stats\n",
      "Roughly the number of unique words: 11492\n",
      "Number of scenes: 262\n",
      "Average number of sentences in each scene: 15.248091603053435\n",
      "Number of lines: 4257\n",
      "Average number of words in each line: 11.50434578341555\n",
      "\n",
      "The sentences 0 to 20:\n",
      "Moe_Szyslak: (INTO PHONE) Moe's Tavern. Where the elite meet to drink.\n",
      "Bart_Simpson: Eh, yeah, hello, is Mike there? Last name, Rotch.\n",
      "Moe_Szyslak: (INTO PHONE) Hold on, I'll check. (TO BARFLIES) Mike Rotch. Mike Rotch. Hey, has anybody seen Mike Rotch, lately?\n",
      "Moe_Szyslak: (INTO PHONE) Listen you little puke. One of these days I'm gonna catch you, and I'm gonna carve my name on your back with an ice pick.\n",
      "Moe_Szyslak: What's the matter Homer? You're not your normal effervescent self.\n",
      "Homer_Simpson: I got my problems, Moe. Give me another one.\n",
      "Moe_Szyslak: Homer, hey, you should not drink to forget your problems.\n",
      "Barney_Gumble: Yeah, you should only drink to enhance your social skills.\n",
      "\n",
      "\n",
      "Moe_Szyslak: Ah, isn't that nice. Now, there is a politician who cares.\n",
      "Barney_Gumble: If I ever vote, it'll be for him. (BELCH)\n",
      "\n",
      "\n",
      "Barney_Gumble: Hey Homer, how's your neighbor's store doing?\n",
      "Homer_Simpson: Lousy. He just sits there all day. He'd have a great job if he didn't own the place. (CHUCKLES)\n",
      "Moe_Szyslak: (STRUGGLING WITH CORKSCREW) Crummy right-handed corkscrews! What does he sell?\n",
      "Homer_Simpson: Uh, well actually, Moe...\n",
      "HOMER_(CONT'D: I dunno.\n",
      "\n"
     ]
    }
   ],
   "source": [
    "view_sentence_range = (0, 20)\n",
    "\n",
    "\"\"\"\n",
    "DON'T MODIFY ANYTHING IN THIS CELL\n",
    "\"\"\"\n",
    "import numpy as np\n",
    "\n",
    "print('Dataset Stats')\n",
    "print('Roughly the number of unique words: {}'.format(len({word: None for word in text.split()})))\n",
    "scenes = text.split('\\n\\n')\n",
    "print('Number of scenes: {}'.format(len(scenes)))\n",
    "sentence_count_scene = [scene.count('\\n') for scene in scenes]\n",
    "print('Average number of sentences in each scene: {}'.format(np.average(sentence_count_scene)))\n",
    "\n",
    "sentences = [sentence for scene in scenes for sentence in scene.split('\\n')]\n",
    "print('Number of lines: {}'.format(len(sentences)))\n",
    "word_count_sentence = [len(sentence.split()) for sentence in sentences]\n",
    "print('Average number of words in each line: {}'.format(np.average(word_count_sentence)))\n",
    "\n",
    "print()\n",
    "print('The sentences {} to {}:'.format(*view_sentence_range))\n",
    "print('\\n'.join(text.split('\\n')[view_sentence_range[0]:view_sentence_range[1]]))"
   ]
  },
  {
   "cell_type": "markdown",
   "metadata": {},
   "source": [
    "## Implement Preprocessing Functions\n",
    "The first thing to do to any dataset is preprocessing.  Implement the following preprocessing functions below:\n",
    "- Lookup Table\n",
    "- Tokenize Punctuation\n",
    "\n",
    "### Lookup Table\n",
    "To create a word embedding, you first need to transform the words to ids.  In this function, create two dictionaries:\n",
    "- Dictionary to go from the words to an id, we'll call `vocab_to_int`\n",
    "- Dictionary to go from the id to word, we'll call `int_to_vocab`\n",
    "\n",
    "Return these dictionaries in the following tuple `(vocab_to_int, int_to_vocab)`"
   ]
  },
  {
   "cell_type": "code",
   "execution_count": 3,
   "metadata": {},
   "outputs": [
    {
     "name": "stdout",
     "output_type": "stream",
     "text": [
      "Tests Passed\n"
     ]
    }
   ],
   "source": [
    "import numpy as np\n",
    "import problem_unittests as tests\n",
    "\n",
    "def create_lookup_tables(text):\n",
    "    \"\"\"\n",
    "    Create lookup tables for vocabulary\n",
    "    :param text: The text of tv scripts split into words\n",
    "    :return: A tuple of dicts (vocab_to_int, int_to_vocab)\n",
    "    \"\"\"\n",
    "    # TODO: Implement Function\n",
    "    text = set(text)\n",
    "    int_to_vocab = dict(enumerate(text))\n",
    "    vocab_to_int = {w:i for i, w in int_to_vocab.items()}\n",
    "    return vocab_to_int, int_to_vocab\n",
    "\n",
    "\n",
    "\"\"\"\n",
    "DON'T MODIFY ANYTHING IN THIS CELL THAT IS BELOW THIS LINE\n",
    "\"\"\"\n",
    "tests.test_create_lookup_tables(create_lookup_tables)"
   ]
  },
  {
   "cell_type": "markdown",
   "metadata": {},
   "source": [
    "### Tokenize Punctuation\n",
    "We'll be splitting the script into a word array using spaces as delimiters.  However, punctuations like periods and exclamation marks make it hard for the neural network to distinguish between the word \"bye\" and \"bye!\".\n",
    "\n",
    "Implement the function `token_lookup` to return a dict that will be used to tokenize symbols like \"!\" into \"||Exclamation_Mark||\".  Create a dictionary for the following symbols where the symbol is the key and value is the token:\n",
    "- Period ( . )\n",
    "- Comma ( , )\n",
    "- Quotation Mark ( \" )\n",
    "- Semicolon ( ; )\n",
    "- Exclamation mark ( ! )\n",
    "- Question mark ( ? )\n",
    "- Left Parentheses ( ( )\n",
    "- Right Parentheses ( ) )\n",
    "- Dash ( -- )\n",
    "- Return ( \\n )\n",
    "\n",
    "This dictionary will be used to token the symbols and add the delimiter (space) around it.  This separates the symbols as it's own word, making it easier for the neural network to predict on the next word. Make sure you don't use a token that could be confused as a word. Instead of using the token \"dash\", try using something like \"||dash||\"."
   ]
  },
  {
   "cell_type": "code",
   "execution_count": 4,
   "metadata": {},
   "outputs": [
    {
     "name": "stdout",
     "output_type": "stream",
     "text": [
      "Tests Passed\n"
     ]
    }
   ],
   "source": [
    "def token_lookup():\n",
    "    \"\"\"\n",
    "    Generate a dict to turn punctuation into a token.\n",
    "    :return: Tokenize dictionary where the key is the punctuation and the value is the token\n",
    "    \"\"\"\n",
    "    # TODO: Implement Function\n",
    "    punc_to_token = {}\n",
    "    punc_to_token['.'] = '<PERIOD>'\n",
    "    punc_to_token[','] = '<COMMA>'\n",
    "    punc_to_token['\"'] = '<QUOTATION_MARK>'\n",
    "    punc_to_token[';'] = '<SEMICOLON>'\n",
    "    punc_to_token['!'] = '<EXCLAMATION_MARK>'\n",
    "    punc_to_token['?'] = '<QUESTION_MARK>'\n",
    "    punc_to_token['('] = '<LEFT_PAREN>'\n",
    "    punc_to_token[')'] = '<RIGHT_PAREN>'\n",
    "    punc_to_token['--'] = '<HYPHENS>'\n",
    "    punc_to_token['\\n'] = '<NEW_LINE>'\n",
    "        \n",
    "    return punc_to_token\n",
    "\n",
    "\"\"\"\n",
    "DON'T MODIFY ANYTHING IN THIS CELL THAT IS BELOW THIS LINE\n",
    "\"\"\"\n",
    "tests.test_tokenize(token_lookup)"
   ]
  },
  {
   "cell_type": "markdown",
   "metadata": {},
   "source": [
    "## Preprocess all the data and save it\n",
    "Running the code cell below will preprocess all the data and save it to file."
   ]
  },
  {
   "cell_type": "code",
   "execution_count": 5,
   "metadata": {
    "collapsed": true
   },
   "outputs": [],
   "source": [
    "\"\"\"\n",
    "DON'T MODIFY ANYTHING IN THIS CELL\n",
    "\"\"\"\n",
    "# Preprocess Training, Validation, and Testing Data\n",
    "helper.preprocess_and_save_data(data_dir, token_lookup, create_lookup_tables)"
   ]
  },
  {
   "cell_type": "markdown",
   "metadata": {},
   "source": [
    "# Check Point\n",
    "This is your first checkpoint. If you ever decide to come back to this notebook or have to restart the notebook, you can start from here. The preprocessed data has been saved to disk."
   ]
  },
  {
   "cell_type": "code",
   "execution_count": 6,
   "metadata": {},
   "outputs": [
    {
     "name": "stdout",
     "output_type": "stream",
     "text": [
      "{'.': '<PERIOD>', ';': '<SEMICOLON>', '!': '<EXCLAMATION_MARK>', '\\n': '<NEW_LINE>', '\"': '<QUOTATION_MARK>', '?': '<QUESTION_MARK>', '(': '<LEFT_PAREN>', ')': '<RIGHT_PAREN>', '--': '<HYPHENS>', ',': '<COMMA>'}\n",
      "[5979, 2024, 2212, 4757, 397, 6437, 1294, 867, 2660, 57, 658, 5614, 5594, 2483, 867, 298, 1084, 6490, 966, 1496, 966, 3659, 966, 3646, 1717, 3024, 5501, 477, 4001, 966, 3730, 867, 298, 5979, 2024, 2212, 4757, 397, 3991, 2397, 966, 338, 2444, 867, 2024, 5594, 5592, 397, 1717, 3730, 867, 1717, 3730, 867, 4829, 966, 5258, 4300, 3321, 1717, 3730, 966, 3063, 5501, 298, 5979, 2024, 2212, 4757, 397, 6207, 2424, 6293, 5394, 867, 5583, 780, 5499, 6375, 896, 5206, 5716, 2424, 966, 236, 896, 5206, 5358, 5607, 4001, 2397, 4112, 3130, 527, 543, 2408, 1148, 867, 298, 5979]\n"
     ]
    }
   ],
   "source": [
    "\"\"\"\n",
    "DON'T MODIFY ANYTHING IN THIS CELL\n",
    "\"\"\"\n",
    "import helper\n",
    "import numpy as np\n",
    "import problem_unittests as tests\n",
    "\n",
    "int_text, vocab_to_int, int_to_vocab, token_dict = helper.load_preprocess()\n",
    "\n",
    "print(token_dict)\n",
    "print(int_text[:100])"
   ]
  },
  {
   "cell_type": "markdown",
   "metadata": {},
   "source": [
    "## Build the Neural Network\n",
    "You'll build the components necessary to build a RNN by implementing the following functions below:\n",
    "- get_inputs\n",
    "- get_init_cell\n",
    "- get_embed\n",
    "- build_rnn\n",
    "- build_nn\n",
    "- get_batches\n",
    "\n",
    "### Check the Version of TensorFlow and Access to GPU"
   ]
  },
  {
   "cell_type": "code",
   "execution_count": 7,
   "metadata": {},
   "outputs": [
    {
     "name": "stdout",
     "output_type": "stream",
     "text": [
      "TensorFlow Version: 1.1.0\n",
      "Default GPU Device: /gpu:0\n"
     ]
    }
   ],
   "source": [
    "\"\"\"\n",
    "DON'T MODIFY ANYTHING IN THIS CELL\n",
    "\"\"\"\n",
    "from distutils.version import LooseVersion\n",
    "import warnings\n",
    "import tensorflow as tf\n",
    "\n",
    "# Check TensorFlow Version\n",
    "assert LooseVersion(tf.__version__) >= LooseVersion('1.0'), 'Please use TensorFlow version 1.0 or newer'\n",
    "print('TensorFlow Version: {}'.format(tf.__version__))\n",
    "\n",
    "# Check for a GPU\n",
    "if not tf.test.gpu_device_name():\n",
    "    warnings.warn('No GPU found. Please use a GPU to train your neural network.')\n",
    "else:\n",
    "    print('Default GPU Device: {}'.format(tf.test.gpu_device_name()))"
   ]
  },
  {
   "cell_type": "markdown",
   "metadata": {},
   "source": [
    "### Input\n",
    "Implement the `get_inputs()` function to create TF Placeholders for the Neural Network.  It should create the following placeholders:\n",
    "- Input text placeholder named \"input\" using the [TF Placeholder](https://www.tensorflow.org/api_docs/python/tf/placeholder) `name` parameter.\n",
    "- Targets placeholder\n",
    "- Learning Rate placeholder\n",
    "\n",
    "Return the placeholders in the following tuple `(Input, Targets, LearningRate)`"
   ]
  },
  {
   "cell_type": "code",
   "execution_count": 8,
   "metadata": {},
   "outputs": [
    {
     "name": "stdout",
     "output_type": "stream",
     "text": [
      "Tests Passed\n"
     ]
    }
   ],
   "source": [
    "def get_inputs():\n",
    "    \"\"\"\n",
    "    Create TF Placeholders for input, targets, and learning rate.\n",
    "    :return: Tuple (input, targets, learning rate)\n",
    "    \"\"\"\n",
    "    # TODO: Implement Function\n",
    "    input = tf.placeholder(tf.int32, [None, None], name=\"input\")\n",
    "    target = tf.placeholder(tf.int32, [None, None])\n",
    "    rate = tf.placeholder(tf.float32)\n",
    "    return input, target, rate\n",
    "\n",
    "\n",
    "\"\"\"\n",
    "DON'T MODIFY ANYTHING IN THIS CELL THAT IS BELOW THIS LINE\n",
    "\"\"\"\n",
    "tests.test_get_inputs(get_inputs)"
   ]
  },
  {
   "cell_type": "markdown",
   "metadata": {},
   "source": [
    "### Build RNN Cell and Initialize\n",
    "Stack one or more [`BasicLSTMCells`](https://www.tensorflow.org/api_docs/python/tf/contrib/rnn/BasicLSTMCell) in a [`MultiRNNCell`](https://www.tensorflow.org/api_docs/python/tf/contrib/rnn/MultiRNNCell).\n",
    "- The Rnn size should be set using `rnn_size`\n",
    "- Initalize Cell State using the MultiRNNCell's [`zero_state()`](https://www.tensorflow.org/api_docs/python/tf/contrib/rnn/MultiRNNCell#zero_state) function\n",
    "    - Apply the name \"initial_state\" to the initial state using [`tf.identity()`](https://www.tensorflow.org/api_docs/python/tf/identity)\n",
    "\n",
    "Return the cell and initial state in the following tuple `(Cell, InitialState)`"
   ]
  },
  {
   "cell_type": "code",
   "execution_count": 9,
   "metadata": {},
   "outputs": [
    {
     "name": "stdout",
     "output_type": "stream",
     "text": [
      "Tests Passed\n"
     ]
    }
   ],
   "source": [
    "def get_init_cell(batch_size, rnn_size):\n",
    "    \"\"\"\n",
    "    Create an RNN Cell and initialize it.\n",
    "    :param batch_size: Size of batches\n",
    "    :param rnn_size: Size of RNNs\n",
    "    :return: Tuple (cell, initialize state)\n",
    "    \"\"\"\n",
    "    # TODO: Implement Function\n",
    "    #lstm = tf.contrib.rnn.BasicLSTMCell(rnn_size)\n",
    "    #cell = tf.contrib.rnn.MultiRNNCell([lstm]*2)\n",
    "    \n",
    "    cell = tf.contrib.rnn.MultiRNNCell([tf.contrib.rnn.BasicLSTMCell(rnn_size) for _ in range(2)])\n",
    "    \n",
    "    initial_state = cell.zero_state(batch_size, tf.float32)\n",
    "    initial_state = tf.identity(initial_state, name=\"initial_state\")\n",
    "    \n",
    "    return cell, initial_state\n",
    "\n",
    "\n",
    "\"\"\"\n",
    "DON'T MODIFY ANYTHING IN THIS CELL THAT IS BELOW THIS LINE\n",
    "\"\"\"\n",
    "tests.test_get_init_cell(get_init_cell)"
   ]
  },
  {
   "cell_type": "markdown",
   "metadata": {},
   "source": [
    "### Word Embedding\n",
    "Apply embedding to `input_data` using TensorFlow.  Return the embedded sequence."
   ]
  },
  {
   "cell_type": "code",
   "execution_count": 10,
   "metadata": {},
   "outputs": [
    {
     "name": "stdout",
     "output_type": "stream",
     "text": [
      "Tests Passed\n"
     ]
    }
   ],
   "source": [
    "def get_embed(input_data, vocab_size, embed_dim):\n",
    "    \"\"\"\n",
    "    Create embedding for <input_data>.\n",
    "    :param input_data: TF placeholder for text input.\n",
    "    :param vocab_size: Number of words in vocabulary.\n",
    "    :param embed_dim: Number of embedding dimensions\n",
    "    :return: Embedded input.\n",
    "    \"\"\"\n",
    "    # TODO: Implement Function\n",
    "    embedding = tf.Variable(tf.random_uniform((vocab_size, embed_dim), -1, 1))\n",
    "    embed = tf.nn.embedding_lookup(embedding, input_data)\n",
    "    return embed\n",
    "\n",
    "\n",
    "\"\"\"\n",
    "DON'T MODIFY ANYTHING IN THIS CELL THAT IS BELOW THIS LINE\n",
    "\"\"\"\n",
    "tests.test_get_embed(get_embed)"
   ]
  },
  {
   "cell_type": "markdown",
   "metadata": {},
   "source": [
    "### Build RNN\n",
    "You created a RNN Cell in the `get_init_cell()` function.  Time to use the cell to create a RNN.\n",
    "- Build the RNN using the [`tf.nn.dynamic_rnn()`](https://www.tensorflow.org/api_docs/python/tf/nn/dynamic_rnn)\n",
    " - Apply the name \"final_state\" to the final state using [`tf.identity()`](https://www.tensorflow.org/api_docs/python/tf/identity)\n",
    "\n",
    "Return the outputs and final_state state in the following tuple `(Outputs, FinalState)` "
   ]
  },
  {
   "cell_type": "code",
   "execution_count": 11,
   "metadata": {},
   "outputs": [
    {
     "name": "stdout",
     "output_type": "stream",
     "text": [
      "Tests Passed\n"
     ]
    }
   ],
   "source": [
    "def build_rnn(cell, inputs):\n",
    "    \"\"\"\n",
    "    Create a RNN using a RNN Cell\n",
    "    :param cell: RNN Cell\n",
    "    :param inputs: Input text data\n",
    "    :return: Tuple (Outputs, Final State)\n",
    "    \"\"\"\n",
    "    # TODO: Implement Function\n",
    "    outpout, final_state = tf.nn.dynamic_rnn(cell, inputs, dtype=tf.float32)\n",
    "    final_state = tf.identity(final_state, \"final_state\")\n",
    "    \n",
    "    return outpout, final_state\n",
    "\n",
    "\n",
    "\"\"\"\n",
    "DON'T MODIFY ANYTHING IN THIS CELL THAT IS BELOW THIS LINE\n",
    "\"\"\"\n",
    "tests.test_build_rnn(build_rnn)"
   ]
  },
  {
   "cell_type": "markdown",
   "metadata": {},
   "source": [
    "### Build the Neural Network\n",
    "Apply the functions you implemented above to:\n",
    "- Apply embedding to `input_data` using your `get_embed(input_data, vocab_size, embed_dim)` function.\n",
    "- Build RNN using `cell` and your `build_rnn(cell, inputs)` function.\n",
    "- Apply a fully connected layer with a linear activation and `vocab_size` as the number of outputs.\n",
    "\n",
    "Return the logits and final state in the following tuple (Logits, FinalState) "
   ]
  },
  {
   "cell_type": "code",
   "execution_count": 12,
   "metadata": {},
   "outputs": [
    {
     "name": "stdout",
     "output_type": "stream",
     "text": [
      "Tests Passed\n"
     ]
    }
   ],
   "source": [
    "def build_nn(cell, rnn_size, input_data, vocab_size, embed_dim):\n",
    "    \"\"\"\n",
    "    Build part of the neural network\n",
    "    :param cell: RNN cell\n",
    "    :param rnn_size: Size of rnns\n",
    "    :param input_data: Input data\n",
    "    :param vocab_size: Vocabulary size\n",
    "    :param embed_dim: Number of embedding dimensions\n",
    "    :return: Tuple (Logits, FinalState)\n",
    "    \"\"\"\n",
    "    # TODO: Implement Function\n",
    "    x = get_embed(input_data, vocab_size, embed_dim)\n",
    "    y, final_state = build_rnn(cell, x)\n",
    "   \n",
    "    weights = tf.Variable(tf.truncated_normal([rnn_size, vocab_size], stddev=0.1))\n",
    "    biases = tf.Variable(tf.zeros(vocab_size))\n",
    "    logits = tf.einsum('aij,jk->aik', y, weights) + biases\n",
    "    \n",
    "    return logits, final_state\n",
    "\n",
    "\n",
    "\"\"\"\n",
    "DON'T MODIFY ANYTHING IN THIS CELL THAT IS BELOW THIS LINE\n",
    "\"\"\"\n",
    "tests.test_build_nn(build_nn)"
   ]
  },
  {
   "cell_type": "markdown",
   "metadata": {},
   "source": [
    "### Batches\n",
    "Implement `get_batches` to create batches of input and targets using `int_text`.  The batches should be a Numpy array with the shape `(number of batches, 2, batch size, sequence length)`. Each batch contains two elements:\n",
    "- The first element is a single batch of **input** with the shape `[batch size, sequence length]`\n",
    "- The second element is a single batch of **targets** with the shape `[batch size, sequence length]`\n",
    "\n",
    "If you can't fill the last batch with enough data, drop the last batch.\n",
    "\n",
    "For exmple, `get_batches([1, 2, 3, 4, 5, 6, 7, 8, 9, 10, 11, 12, 13, 14, 15], 2, 3)` would return a Numpy array of the following:\n",
    "```\n",
    "[\n",
    "  # First Batch\n",
    "  [\n",
    "    # Batch of Input\n",
    "    [[ 1  2  3], [ 7  8  9]],\n",
    "    # Batch of targets\n",
    "    [[ 2  3  4], [ 8  9 10]]\n",
    "  ],\n",
    " \n",
    "  # Second Batch\n",
    "  [\n",
    "    # Batch of Input\n",
    "    [[ 4  5  6], [10 11 12]],\n",
    "    # Batch of targets\n",
    "    [[ 5  6  7], [11 12 13]]\n",
    "  ]\n",
    "]\n",
    "```"
   ]
  },
  {
   "cell_type": "code",
   "execution_count": 13,
   "metadata": {},
   "outputs": [
    {
     "name": "stdout",
     "output_type": "stream",
     "text": [
      "Tests Passed\n"
     ]
    }
   ],
   "source": [
    "def get_batches(int_text, batch_size, seq_length):\n",
    "    \"\"\"\n",
    "    Return batches of input and target\n",
    "    :param int_text: Text with the words replaced by their ids\n",
    "    :param batch_size: The size of batch\n",
    "    :param seq_length: The length of sequence\n",
    "    :return: Batches as a Numpy array\n",
    "    \"\"\"\n",
    "    # TODO: Implement Function\n",
    "    n_batches = len(int_text) // (batch_size*seq_length)\n",
    "    int_text = np.array(int_text[:n_batches*batch_size*seq_length])\n",
    "    int_text = int_text.reshape([batch_size, -1])\n",
    "    \n",
    "    # append first column as the last column, so the last 'target' can has full columns\n",
    "    int_text = np.concatenate((int_text, int_text[:,0:1]), axis=1)\n",
    "\n",
    "    result = []\n",
    "    for i in range(n_batches):\n",
    "        batch = int_text[:, i*seq_length:(i+1)*seq_length]\n",
    "        target = int_text[:, i*seq_length+1:(i+1)*seq_length+1]\n",
    "        result.append([batch, target])\n",
    "\n",
    "    return np.array(result)\n",
    "\n",
    "\n",
    "\"\"\"\n",
    "DON'T MODIFY ANYTHING IN THIS CELL THAT IS BELOW THIS LINE\n",
    "\"\"\"\n",
    "tests.test_get_batches(get_batches)"
   ]
  },
  {
   "cell_type": "markdown",
   "metadata": {},
   "source": [
    "## Neural Network Training\n",
    "### Hyperparameters\n",
    "Tune the following parameters:\n",
    "\n",
    "- Set `num_epochs` to the number of epochs.\n",
    "- Set `batch_size` to the batch size.\n",
    "- Set `rnn_size` to the size of the RNNs.\n",
    "- Set `embed_dim` to the size of the embedding.\n",
    "- Set `seq_length` to the length of sequence.\n",
    "- Set `learning_rate` to the learning rate.\n",
    "- Set `show_every_n_batches` to the number of batches the neural network should print progress."
   ]
  },
  {
   "cell_type": "code",
   "execution_count": 14,
   "metadata": {
    "collapsed": true
   },
   "outputs": [],
   "source": [
    "# Number of Epochs\n",
    "num_epochs = 400\n",
    "# Batch Size\n",
    "batch_size = 32\n",
    "# RNN Size\n",
    "rnn_size = 128\n",
    "# Embedding Dimension Size\n",
    "embed_dim = 200\n",
    "# Sequence Length\n",
    "seq_length = 200\n",
    "# Learning Rate\n",
    "learning_rate = 0.01\n",
    "# Show stats for every n number of batches\n",
    "show_every_n_batches = 10\n",
    "\n",
    "\"\"\"\n",
    "DON'T MODIFY ANYTHING IN THIS CELL THAT IS BELOW THIS LINE\n",
    "\"\"\"\n",
    "save_dir = './save'"
   ]
  },
  {
   "cell_type": "markdown",
   "metadata": {},
   "source": [
    "### Build the Graph\n",
    "Build the graph using the neural network you implemented."
   ]
  },
  {
   "cell_type": "code",
   "execution_count": 15,
   "metadata": {
    "collapsed": true
   },
   "outputs": [],
   "source": [
    "\"\"\"\n",
    "DON'T MODIFY ANYTHING IN THIS CELL\n",
    "\"\"\"\n",
    "from tensorflow.contrib import seq2seq\n",
    "\n",
    "train_graph = tf.Graph()\n",
    "with train_graph.as_default():\n",
    "    vocab_size = len(int_to_vocab)\n",
    "    input_text, targets, lr = get_inputs()\n",
    "    input_data_shape = tf.shape(input_text)\n",
    "    cell, initial_state = get_init_cell(input_data_shape[0], rnn_size)\n",
    "    logits, final_state = build_nn(cell, rnn_size, input_text, vocab_size, embed_dim)\n",
    "\n",
    "    # Probabilities for generating words\n",
    "    probs = tf.nn.softmax(logits, name='probs')\n",
    "\n",
    "    # Loss function\n",
    "    cost = seq2seq.sequence_loss(\n",
    "        logits,\n",
    "        targets,\n",
    "        tf.ones([input_data_shape[0], input_data_shape[1]]))\n",
    "\n",
    "    # Optimizer\n",
    "    optimizer = tf.train.AdamOptimizer(lr)\n",
    "\n",
    "    # Gradient Clipping\n",
    "    gradients = optimizer.compute_gradients(cost)\n",
    "    capped_gradients = [(tf.clip_by_value(grad, -1., 1.), var) for grad, var in gradients if grad is not None]\n",
    "    train_op = optimizer.apply_gradients(capped_gradients)"
   ]
  },
  {
   "cell_type": "markdown",
   "metadata": {},
   "source": [
    "## Train\n",
    "Train the neural network on the preprocessed data.  If you have a hard time getting a good loss, check the [forms](https://discussions.udacity.com/) to see if anyone is having the same problem."
   ]
  },
  {
   "cell_type": "code",
   "execution_count": 16,
   "metadata": {},
   "outputs": [
    {
     "name": "stdout",
     "output_type": "stream",
     "text": [
      "Epoch   0 Batch    0/10   train_loss = 8.825\n",
      "Epoch   1 Batch    0/10   train_loss = 6.302\n",
      "Epoch   2 Batch    0/10   train_loss = 6.046\n",
      "Epoch   3 Batch    0/10   train_loss = 5.900\n",
      "Epoch   4 Batch    0/10   train_loss = 5.762\n",
      "Epoch   5 Batch    0/10   train_loss = 5.653\n",
      "Epoch   6 Batch    0/10   train_loss = 5.556\n",
      "Epoch   7 Batch    0/10   train_loss = 5.455\n",
      "Epoch   8 Batch    0/10   train_loss = 5.354\n",
      "Epoch   9 Batch    0/10   train_loss = 5.270\n",
      "Epoch  10 Batch    0/10   train_loss = 5.207\n",
      "Epoch  11 Batch    0/10   train_loss = 5.146\n",
      "Epoch  12 Batch    0/10   train_loss = 5.117\n",
      "Epoch  13 Batch    0/10   train_loss = 5.031\n",
      "Epoch  14 Batch    0/10   train_loss = 4.962\n",
      "Epoch  15 Batch    0/10   train_loss = 4.888\n",
      "Epoch  16 Batch    0/10   train_loss = 4.803\n",
      "Epoch  17 Batch    0/10   train_loss = 4.721\n",
      "Epoch  18 Batch    0/10   train_loss = 4.660\n",
      "Epoch  19 Batch    0/10   train_loss = 4.579\n",
      "Epoch  20 Batch    0/10   train_loss = 4.470\n",
      "Epoch  21 Batch    0/10   train_loss = 4.367\n",
      "Epoch  22 Batch    0/10   train_loss = 4.304\n",
      "Epoch  23 Batch    0/10   train_loss = 4.229\n",
      "Epoch  24 Batch    0/10   train_loss = 4.157\n",
      "Epoch  25 Batch    0/10   train_loss = 4.111\n",
      "Epoch  26 Batch    0/10   train_loss = 4.022\n",
      "Epoch  27 Batch    0/10   train_loss = 3.960\n",
      "Epoch  28 Batch    0/10   train_loss = 3.930\n",
      "Epoch  29 Batch    0/10   train_loss = 3.871\n",
      "Epoch  30 Batch    0/10   train_loss = 3.850\n",
      "Epoch  31 Batch    0/10   train_loss = 3.811\n",
      "Epoch  32 Batch    0/10   train_loss = 3.818\n",
      "Epoch  33 Batch    0/10   train_loss = 3.764\n",
      "Epoch  34 Batch    0/10   train_loss = 3.688\n",
      "Epoch  35 Batch    0/10   train_loss = 3.551\n",
      "Epoch  36 Batch    0/10   train_loss = 3.471\n",
      "Epoch  37 Batch    0/10   train_loss = 3.397\n",
      "Epoch  38 Batch    0/10   train_loss = 3.331\n",
      "Epoch  39 Batch    0/10   train_loss = 3.265\n",
      "Epoch  40 Batch    0/10   train_loss = 3.265\n",
      "Epoch  41 Batch    0/10   train_loss = 3.234\n",
      "Epoch  42 Batch    0/10   train_loss = 3.209\n",
      "Epoch  43 Batch    0/10   train_loss = 3.179\n",
      "Epoch  44 Batch    0/10   train_loss = 3.155\n",
      "Epoch  45 Batch    0/10   train_loss = 3.039\n",
      "Epoch  46 Batch    0/10   train_loss = 3.022\n",
      "Epoch  47 Batch    0/10   train_loss = 2.929\n",
      "Epoch  48 Batch    0/10   train_loss = 2.825\n",
      "Epoch  49 Batch    0/10   train_loss = 2.803\n",
      "Epoch  50 Batch    0/10   train_loss = 2.722\n",
      "Epoch  51 Batch    0/10   train_loss = 2.671\n",
      "Epoch  52 Batch    0/10   train_loss = 2.682\n",
      "Epoch  53 Batch    0/10   train_loss = 2.571\n",
      "Epoch  54 Batch    0/10   train_loss = 2.565\n",
      "Epoch  55 Batch    0/10   train_loss = 2.484\n",
      "Epoch  56 Batch    0/10   train_loss = 2.451\n",
      "Epoch  57 Batch    0/10   train_loss = 2.376\n",
      "Epoch  58 Batch    0/10   train_loss = 2.382\n",
      "Epoch  59 Batch    0/10   train_loss = 2.340\n",
      "Epoch  60 Batch    0/10   train_loss = 2.350\n",
      "Epoch  61 Batch    0/10   train_loss = 2.266\n",
      "Epoch  62 Batch    0/10   train_loss = 2.226\n",
      "Epoch  63 Batch    0/10   train_loss = 2.232\n",
      "Epoch  64 Batch    0/10   train_loss = 2.288\n",
      "Epoch  65 Batch    0/10   train_loss = 2.144\n",
      "Epoch  66 Batch    0/10   train_loss = 2.122\n",
      "Epoch  67 Batch    0/10   train_loss = 2.035\n",
      "Epoch  68 Batch    0/10   train_loss = 1.961\n",
      "Epoch  69 Batch    0/10   train_loss = 1.925\n",
      "Epoch  70 Batch    0/10   train_loss = 1.846\n",
      "Epoch  71 Batch    0/10   train_loss = 1.806\n",
      "Epoch  72 Batch    0/10   train_loss = 1.764\n",
      "Epoch  73 Batch    0/10   train_loss = 1.732\n",
      "Epoch  74 Batch    0/10   train_loss = 1.716\n",
      "Epoch  75 Batch    0/10   train_loss = 1.685\n",
      "Epoch  76 Batch    0/10   train_loss = 1.732\n",
      "Epoch  77 Batch    0/10   train_loss = 1.721\n",
      "Epoch  78 Batch    0/10   train_loss = 1.728\n",
      "Epoch  79 Batch    0/10   train_loss = 1.748\n",
      "Epoch  80 Batch    0/10   train_loss = 1.716\n",
      "Epoch  81 Batch    0/10   train_loss = 1.799\n",
      "Epoch  82 Batch    0/10   train_loss = 1.628\n",
      "Epoch  83 Batch    0/10   train_loss = 1.625\n",
      "Epoch  84 Batch    0/10   train_loss = 1.509\n",
      "Epoch  85 Batch    0/10   train_loss = 1.484\n",
      "Epoch  86 Batch    0/10   train_loss = 1.405\n",
      "Epoch  87 Batch    0/10   train_loss = 1.400\n",
      "Epoch  88 Batch    0/10   train_loss = 1.338\n",
      "Epoch  89 Batch    0/10   train_loss = 1.340\n",
      "Epoch  90 Batch    0/10   train_loss = 1.312\n",
      "Epoch  91 Batch    0/10   train_loss = 1.293\n",
      "Epoch  92 Batch    0/10   train_loss = 1.274\n",
      "Epoch  93 Batch    0/10   train_loss = 1.256\n",
      "Epoch  94 Batch    0/10   train_loss = 1.246\n",
      "Epoch  95 Batch    0/10   train_loss = 1.245\n",
      "Epoch  96 Batch    0/10   train_loss = 1.292\n",
      "Epoch  97 Batch    0/10   train_loss = 1.253\n",
      "Epoch  98 Batch    0/10   train_loss = 1.241\n",
      "Epoch  99 Batch    0/10   train_loss = 1.238\n",
      "Epoch 100 Batch    0/10   train_loss = 1.217\n",
      "Epoch 101 Batch    0/10   train_loss = 1.170\n",
      "Epoch 102 Batch    0/10   train_loss = 1.102\n",
      "Epoch 103 Batch    0/10   train_loss = 1.064\n",
      "Epoch 104 Batch    0/10   train_loss = 1.025\n",
      "Epoch 105 Batch    0/10   train_loss = 0.996\n",
      "Epoch 106 Batch    0/10   train_loss = 0.982\n",
      "Epoch 107 Batch    0/10   train_loss = 0.947\n",
      "Epoch 108 Batch    0/10   train_loss = 0.928\n",
      "Epoch 109 Batch    0/10   train_loss = 0.920\n",
      "Epoch 110 Batch    0/10   train_loss = 0.893\n",
      "Epoch 111 Batch    0/10   train_loss = 0.883\n",
      "Epoch 112 Batch    0/10   train_loss = 0.868\n",
      "Epoch 113 Batch    0/10   train_loss = 0.852\n",
      "Epoch 114 Batch    0/10   train_loss = 0.841\n",
      "Epoch 115 Batch    0/10   train_loss = 0.842\n",
      "Epoch 116 Batch    0/10   train_loss = 0.842\n",
      "Epoch 117 Batch    0/10   train_loss = 0.828\n",
      "Epoch 118 Batch    0/10   train_loss = 0.861\n",
      "Epoch 119 Batch    0/10   train_loss = 0.835\n",
      "Epoch 120 Batch    0/10   train_loss = 0.854\n",
      "Epoch 121 Batch    0/10   train_loss = 0.907\n",
      "Epoch 122 Batch    0/10   train_loss = 0.897\n",
      "Epoch 123 Batch    0/10   train_loss = 0.848\n",
      "Epoch 124 Batch    0/10   train_loss = 0.860\n",
      "Epoch 125 Batch    0/10   train_loss = 0.850\n",
      "Epoch 126 Batch    0/10   train_loss = 0.830\n",
      "Epoch 127 Batch    0/10   train_loss = 0.798\n",
      "Epoch 128 Batch    0/10   train_loss = 0.786\n",
      "Epoch 129 Batch    0/10   train_loss = 0.747\n",
      "Epoch 130 Batch    0/10   train_loss = 0.747\n",
      "Epoch 131 Batch    0/10   train_loss = 0.786\n",
      "Epoch 132 Batch    0/10   train_loss = 0.770\n",
      "Epoch 133 Batch    0/10   train_loss = 0.735\n",
      "Epoch 134 Batch    0/10   train_loss = 0.761\n",
      "Epoch 135 Batch    0/10   train_loss = 0.830\n",
      "Epoch 136 Batch    0/10   train_loss = 0.759\n",
      "Epoch 137 Batch    0/10   train_loss = 0.759\n",
      "Epoch 138 Batch    0/10   train_loss = 0.742\n",
      "Epoch 139 Batch    0/10   train_loss = 0.672\n",
      "Epoch 140 Batch    0/10   train_loss = 0.659\n",
      "Epoch 141 Batch    0/10   train_loss = 0.597\n",
      "Epoch 142 Batch    0/10   train_loss = 0.573\n",
      "Epoch 143 Batch    0/10   train_loss = 0.537\n",
      "Epoch 144 Batch    0/10   train_loss = 0.518\n",
      "Epoch 145 Batch    0/10   train_loss = 0.493\n",
      "Epoch 146 Batch    0/10   train_loss = 0.486\n",
      "Epoch 147 Batch    0/10   train_loss = 0.466\n",
      "Epoch 148 Batch    0/10   train_loss = 0.456\n",
      "Epoch 149 Batch    0/10   train_loss = 0.447\n",
      "Epoch 150 Batch    0/10   train_loss = 0.441\n",
      "Epoch 151 Batch    0/10   train_loss = 0.445\n",
      "Epoch 152 Batch    0/10   train_loss = 0.443\n",
      "Epoch 153 Batch    0/10   train_loss = 0.434\n",
      "Epoch 154 Batch    0/10   train_loss = 0.435\n",
      "Epoch 155 Batch    0/10   train_loss = 0.446\n",
      "Epoch 156 Batch    0/10   train_loss = 0.459\n",
      "Epoch 157 Batch    0/10   train_loss = 0.450\n",
      "Epoch 158 Batch    0/10   train_loss = 0.444\n",
      "Epoch 159 Batch    0/10   train_loss = 0.457\n",
      "Epoch 160 Batch    0/10   train_loss = 0.466\n",
      "Epoch 161 Batch    0/10   train_loss = 0.477\n",
      "Epoch 162 Batch    0/10   train_loss = 0.450\n",
      "Epoch 163 Batch    0/10   train_loss = 0.479\n",
      "Epoch 164 Batch    0/10   train_loss = 0.457\n",
      "Epoch 165 Batch    0/10   train_loss = 0.450\n",
      "Epoch 166 Batch    0/10   train_loss = 0.437\n",
      "Epoch 167 Batch    0/10   train_loss = 0.430\n",
      "Epoch 168 Batch    0/10   train_loss = 0.409\n",
      "Epoch 169 Batch    0/10   train_loss = 0.378\n",
      "Epoch 170 Batch    0/10   train_loss = 0.370\n",
      "Epoch 171 Batch    0/10   train_loss = 0.370\n",
      "Epoch 172 Batch    0/10   train_loss = 0.348\n",
      "Epoch 173 Batch    0/10   train_loss = 0.339\n",
      "Epoch 174 Batch    0/10   train_loss = 0.334\n",
      "Epoch 175 Batch    0/10   train_loss = 0.320\n",
      "Epoch 176 Batch    0/10   train_loss = 0.310\n",
      "Epoch 177 Batch    0/10   train_loss = 0.297\n",
      "Epoch 178 Batch    0/10   train_loss = 0.295\n",
      "Epoch 179 Batch    0/10   train_loss = 0.285\n",
      "Epoch 180 Batch    0/10   train_loss = 0.281\n",
      "Epoch 181 Batch    0/10   train_loss = 0.276\n",
      "Epoch 182 Batch    0/10   train_loss = 0.270\n"
     ]
    },
    {
     "name": "stdout",
     "output_type": "stream",
     "text": [
      "Epoch 183 Batch    0/10   train_loss = 0.263\n",
      "Epoch 184 Batch    0/10   train_loss = 0.261\n",
      "Epoch 185 Batch    0/10   train_loss = 0.253\n",
      "Epoch 186 Batch    0/10   train_loss = 0.251\n",
      "Epoch 187 Batch    0/10   train_loss = 0.255\n",
      "Epoch 188 Batch    0/10   train_loss = 0.253\n",
      "Epoch 189 Batch    0/10   train_loss = 0.262\n",
      "Epoch 190 Batch    0/10   train_loss = 0.251\n",
      "Epoch 191 Batch    0/10   train_loss = 0.259\n",
      "Epoch 192 Batch    0/10   train_loss = 0.252\n",
      "Epoch 193 Batch    0/10   train_loss = 0.252\n",
      "Epoch 194 Batch    0/10   train_loss = 0.288\n",
      "Epoch 195 Batch    0/10   train_loss = 0.295\n",
      "Epoch 196 Batch    0/10   train_loss = 0.283\n",
      "Epoch 197 Batch    0/10   train_loss = 0.279\n",
      "Epoch 198 Batch    0/10   train_loss = 0.306\n",
      "Epoch 199 Batch    0/10   train_loss = 0.333\n",
      "Epoch 200 Batch    0/10   train_loss = 0.369\n",
      "Epoch 201 Batch    0/10   train_loss = 0.400\n",
      "Epoch 202 Batch    0/10   train_loss = 0.409\n",
      "Epoch 203 Batch    0/10   train_loss = 0.424\n",
      "Epoch 204 Batch    0/10   train_loss = 0.487\n",
      "Epoch 205 Batch    0/10   train_loss = 0.558\n",
      "Epoch 206 Batch    0/10   train_loss = 0.606\n",
      "Epoch 207 Batch    0/10   train_loss = 0.649\n",
      "Epoch 208 Batch    0/10   train_loss = 0.666\n",
      "Epoch 209 Batch    0/10   train_loss = 0.612\n",
      "Epoch 210 Batch    0/10   train_loss = 0.624\n",
      "Epoch 211 Batch    0/10   train_loss = 0.539\n",
      "Epoch 212 Batch    0/10   train_loss = 0.468\n",
      "Epoch 213 Batch    0/10   train_loss = 0.491\n",
      "Epoch 214 Batch    0/10   train_loss = 0.388\n",
      "Epoch 215 Batch    0/10   train_loss = 0.374\n",
      "Epoch 216 Batch    0/10   train_loss = 0.327\n",
      "Epoch 217 Batch    0/10   train_loss = 0.292\n",
      "Epoch 218 Batch    0/10   train_loss = 0.279\n",
      "Epoch 219 Batch    0/10   train_loss = 0.238\n",
      "Epoch 220 Batch    0/10   train_loss = 0.224\n",
      "Epoch 221 Batch    0/10   train_loss = 0.202\n",
      "Epoch 222 Batch    0/10   train_loss = 0.188\n",
      "Epoch 223 Batch    0/10   train_loss = 0.172\n",
      "Epoch 224 Batch    0/10   train_loss = 0.167\n",
      "Epoch 225 Batch    0/10   train_loss = 0.153\n",
      "Epoch 226 Batch    0/10   train_loss = 0.153\n",
      "Epoch 227 Batch    0/10   train_loss = 0.144\n",
      "Epoch 228 Batch    0/10   train_loss = 0.142\n",
      "Epoch 229 Batch    0/10   train_loss = 0.140\n",
      "Epoch 230 Batch    0/10   train_loss = 0.132\n",
      "Epoch 231 Batch    0/10   train_loss = 0.129\n",
      "Epoch 232 Batch    0/10   train_loss = 0.128\n",
      "Epoch 233 Batch    0/10   train_loss = 0.123\n",
      "Epoch 234 Batch    0/10   train_loss = 0.122\n",
      "Epoch 235 Batch    0/10   train_loss = 0.118\n",
      "Epoch 236 Batch    0/10   train_loss = 0.120\n",
      "Epoch 237 Batch    0/10   train_loss = 0.119\n",
      "Epoch 238 Batch    0/10   train_loss = 0.113\n",
      "Epoch 239 Batch    0/10   train_loss = 0.114\n",
      "Epoch 240 Batch    0/10   train_loss = 0.111\n",
      "Epoch 241 Batch    0/10   train_loss = 0.111\n",
      "Epoch 242 Batch    0/10   train_loss = 0.112\n",
      "Epoch 243 Batch    0/10   train_loss = 0.105\n",
      "Epoch 244 Batch    0/10   train_loss = 0.117\n",
      "Epoch 245 Batch    0/10   train_loss = 0.110\n",
      "Epoch 246 Batch    0/10   train_loss = 0.108\n",
      "Epoch 247 Batch    0/10   train_loss = 0.110\n",
      "Epoch 248 Batch    0/10   train_loss = 0.110\n",
      "Epoch 249 Batch    0/10   train_loss = 0.115\n",
      "Epoch 250 Batch    0/10   train_loss = 0.118\n",
      "Epoch 251 Batch    0/10   train_loss = 0.108\n",
      "Epoch 252 Batch    0/10   train_loss = 0.129\n",
      "Epoch 253 Batch    0/10   train_loss = 0.111\n",
      "Epoch 254 Batch    0/10   train_loss = 0.113\n",
      "Epoch 255 Batch    0/10   train_loss = 0.108\n",
      "Epoch 256 Batch    0/10   train_loss = 0.108\n",
      "Epoch 257 Batch    0/10   train_loss = 0.098\n",
      "Epoch 258 Batch    0/10   train_loss = 0.098\n",
      "Epoch 259 Batch    0/10   train_loss = 0.091\n",
      "Epoch 260 Batch    0/10   train_loss = 0.094\n",
      "Epoch 261 Batch    0/10   train_loss = 0.084\n",
      "Epoch 262 Batch    0/10   train_loss = 0.082\n",
      "Epoch 263 Batch    0/10   train_loss = 0.080\n",
      "Epoch 264 Batch    0/10   train_loss = 0.073\n",
      "Epoch 265 Batch    0/10   train_loss = 0.072\n",
      "Epoch 266 Batch    0/10   train_loss = 0.069\n",
      "Epoch 267 Batch    0/10   train_loss = 0.067\n",
      "Epoch 268 Batch    0/10   train_loss = 0.065\n",
      "Epoch 269 Batch    0/10   train_loss = 0.062\n",
      "Epoch 270 Batch    0/10   train_loss = 0.061\n",
      "Epoch 271 Batch    0/10   train_loss = 0.060\n",
      "Epoch 272 Batch    0/10   train_loss = 0.059\n",
      "Epoch 273 Batch    0/10   train_loss = 0.057\n",
      "Epoch 274 Batch    0/10   train_loss = 0.056\n",
      "Epoch 275 Batch    0/10   train_loss = 0.055\n",
      "Epoch 276 Batch    0/10   train_loss = 0.054\n",
      "Epoch 277 Batch    0/10   train_loss = 0.053\n",
      "Epoch 278 Batch    0/10   train_loss = 0.053\n",
      "Epoch 279 Batch    0/10   train_loss = 0.051\n",
      "Epoch 280 Batch    0/10   train_loss = 0.052\n",
      "Epoch 281 Batch    0/10   train_loss = 0.049\n",
      "Epoch 282 Batch    0/10   train_loss = 0.051\n",
      "Epoch 283 Batch    0/10   train_loss = 0.049\n",
      "Epoch 284 Batch    0/10   train_loss = 0.049\n",
      "Epoch 285 Batch    0/10   train_loss = 0.049\n",
      "Epoch 286 Batch    0/10   train_loss = 0.048\n",
      "Epoch 287 Batch    0/10   train_loss = 0.050\n",
      "Epoch 288 Batch    0/10   train_loss = 0.048\n",
      "Epoch 289 Batch    0/10   train_loss = 0.049\n",
      "Epoch 290 Batch    0/10   train_loss = 0.049\n",
      "Epoch 291 Batch    0/10   train_loss = 0.049\n",
      "Epoch 292 Batch    0/10   train_loss = 0.049\n",
      "Epoch 293 Batch    0/10   train_loss = 0.050\n",
      "Epoch 294 Batch    0/10   train_loss = 0.053\n",
      "Epoch 295 Batch    0/10   train_loss = 0.053\n",
      "Epoch 296 Batch    0/10   train_loss = 0.055\n",
      "Epoch 297 Batch    0/10   train_loss = 0.062\n",
      "Epoch 298 Batch    0/10   train_loss = 0.074\n",
      "Epoch 299 Batch    0/10   train_loss = 0.088\n",
      "Epoch 300 Batch    0/10   train_loss = 0.118\n",
      "Epoch 301 Batch    0/10   train_loss = 0.164\n",
      "Epoch 302 Batch    0/10   train_loss = 0.250\n",
      "Epoch 303 Batch    0/10   train_loss = 0.390\n",
      "Epoch 304 Batch    0/10   train_loss = 0.577\n",
      "Epoch 305 Batch    0/10   train_loss = 0.762\n",
      "Epoch 306 Batch    0/10   train_loss = 0.908\n",
      "Epoch 307 Batch    0/10   train_loss = 0.935\n",
      "Epoch 308 Batch    0/10   train_loss = 0.901\n",
      "Epoch 309 Batch    0/10   train_loss = 0.854\n",
      "Epoch 310 Batch    0/10   train_loss = 0.804\n",
      "Epoch 311 Batch    0/10   train_loss = 0.752\n",
      "Epoch 312 Batch    0/10   train_loss = 0.693\n",
      "Epoch 313 Batch    0/10   train_loss = 0.641\n",
      "Epoch 314 Batch    0/10   train_loss = 0.571\n",
      "Epoch 315 Batch    0/10   train_loss = 0.519\n",
      "Epoch 316 Batch    0/10   train_loss = 0.481\n",
      "Epoch 317 Batch    0/10   train_loss = 0.427\n",
      "Epoch 318 Batch    0/10   train_loss = 0.373\n",
      "Epoch 319 Batch    0/10   train_loss = 0.375\n",
      "Epoch 320 Batch    0/10   train_loss = 0.345\n",
      "Epoch 321 Batch    0/10   train_loss = 0.337\n",
      "Epoch 322 Batch    0/10   train_loss = 0.348\n",
      "Epoch 323 Batch    0/10   train_loss = 0.289\n",
      "Epoch 324 Batch    0/10   train_loss = 0.271\n",
      "Epoch 325 Batch    0/10   train_loss = 0.222\n",
      "Epoch 326 Batch    0/10   train_loss = 0.196\n",
      "Epoch 327 Batch    0/10   train_loss = 0.164\n",
      "Epoch 328 Batch    0/10   train_loss = 0.148\n",
      "Epoch 329 Batch    0/10   train_loss = 0.127\n",
      "Epoch 330 Batch    0/10   train_loss = 0.117\n",
      "Epoch 331 Batch    0/10   train_loss = 0.105\n",
      "Epoch 332 Batch    0/10   train_loss = 0.092\n",
      "Epoch 333 Batch    0/10   train_loss = 0.084\n",
      "Epoch 334 Batch    0/10   train_loss = 0.077\n",
      "Epoch 335 Batch    0/10   train_loss = 0.073\n",
      "Epoch 336 Batch    0/10   train_loss = 0.069\n",
      "Epoch 337 Batch    0/10   train_loss = 0.065\n",
      "Epoch 338 Batch    0/10   train_loss = 0.063\n",
      "Epoch 339 Batch    0/10   train_loss = 0.061\n",
      "Epoch 340 Batch    0/10   train_loss = 0.059\n",
      "Epoch 341 Batch    0/10   train_loss = 0.057\n",
      "Epoch 342 Batch    0/10   train_loss = 0.055\n",
      "Epoch 343 Batch    0/10   train_loss = 0.054\n",
      "Epoch 344 Batch    0/10   train_loss = 0.053\n",
      "Epoch 345 Batch    0/10   train_loss = 0.052\n",
      "Epoch 346 Batch    0/10   train_loss = 0.050\n",
      "Epoch 347 Batch    0/10   train_loss = 0.049\n",
      "Epoch 348 Batch    0/10   train_loss = 0.048\n",
      "Epoch 349 Batch    0/10   train_loss = 0.047\n",
      "Epoch 350 Batch    0/10   train_loss = 0.046\n",
      "Epoch 351 Batch    0/10   train_loss = 0.045\n",
      "Epoch 352 Batch    0/10   train_loss = 0.044\n",
      "Epoch 353 Batch    0/10   train_loss = 0.044\n",
      "Epoch 354 Batch    0/10   train_loss = 0.043\n",
      "Epoch 355 Batch    0/10   train_loss = 0.042\n",
      "Epoch 356 Batch    0/10   train_loss = 0.042\n",
      "Epoch 357 Batch    0/10   train_loss = 0.040\n",
      "Epoch 358 Batch    0/10   train_loss = 0.040\n",
      "Epoch 359 Batch    0/10   train_loss = 0.039\n",
      "Epoch 360 Batch    0/10   train_loss = 0.038\n",
      "Epoch 361 Batch    0/10   train_loss = 0.038\n",
      "Epoch 362 Batch    0/10   train_loss = 0.037\n",
      "Epoch 363 Batch    0/10   train_loss = 0.037\n",
      "Epoch 364 Batch    0/10   train_loss = 0.036\n",
      "Epoch 365 Batch    0/10   train_loss = 0.036\n"
     ]
    },
    {
     "name": "stdout",
     "output_type": "stream",
     "text": [
      "Epoch 366 Batch    0/10   train_loss = 0.035\n",
      "Epoch 367 Batch    0/10   train_loss = 0.035\n",
      "Epoch 368 Batch    0/10   train_loss = 0.034\n",
      "Epoch 369 Batch    0/10   train_loss = 0.034\n",
      "Epoch 370 Batch    0/10   train_loss = 0.034\n",
      "Epoch 371 Batch    0/10   train_loss = 0.033\n",
      "Epoch 372 Batch    0/10   train_loss = 0.033\n",
      "Epoch 373 Batch    0/10   train_loss = 0.032\n",
      "Epoch 374 Batch    0/10   train_loss = 0.032\n",
      "Epoch 375 Batch    0/10   train_loss = 0.031\n",
      "Epoch 376 Batch    0/10   train_loss = 0.031\n",
      "Epoch 377 Batch    0/10   train_loss = 0.031\n",
      "Epoch 378 Batch    0/10   train_loss = 0.030\n",
      "Epoch 379 Batch    0/10   train_loss = 0.030\n",
      "Epoch 380 Batch    0/10   train_loss = 0.029\n",
      "Epoch 381 Batch    0/10   train_loss = 0.029\n",
      "Epoch 382 Batch    0/10   train_loss = 0.029\n",
      "Epoch 383 Batch    0/10   train_loss = 0.028\n",
      "Epoch 384 Batch    0/10   train_loss = 0.028\n",
      "Epoch 385 Batch    0/10   train_loss = 0.028\n",
      "Epoch 386 Batch    0/10   train_loss = 0.028\n",
      "Epoch 387 Batch    0/10   train_loss = 0.027\n",
      "Epoch 388 Batch    0/10   train_loss = 0.027\n",
      "Epoch 389 Batch    0/10   train_loss = 0.027\n",
      "Epoch 390 Batch    0/10   train_loss = 0.026\n",
      "Epoch 391 Batch    0/10   train_loss = 0.026\n",
      "Epoch 392 Batch    0/10   train_loss = 0.026\n",
      "Epoch 393 Batch    0/10   train_loss = 0.026\n",
      "Epoch 394 Batch    0/10   train_loss = 0.025\n",
      "Epoch 395 Batch    0/10   train_loss = 0.025\n",
      "Epoch 396 Batch    0/10   train_loss = 0.025\n",
      "Epoch 397 Batch    0/10   train_loss = 0.025\n",
      "Epoch 398 Batch    0/10   train_loss = 0.025\n",
      "Epoch 399 Batch    0/10   train_loss = 0.024\n",
      "Model Trained and Saved\n"
     ]
    }
   ],
   "source": [
    "\"\"\"\n",
    "DON'T MODIFY ANYTHING IN THIS CELL\n",
    "\"\"\"\n",
    "\n",
    "batches = get_batches(int_text, batch_size, seq_length)\n",
    "\n",
    "with tf.Session(graph=train_graph) as sess:\n",
    "    sess.run(tf.global_variables_initializer())\n",
    "\n",
    "    for epoch_i in range(num_epochs):\n",
    "        state = sess.run(initial_state, {input_text: batches[0][0]})\n",
    "\n",
    "        for batch_i, (x, y) in enumerate(batches):\n",
    "            feed = {\n",
    "                input_text: x,\n",
    "                targets: y,\n",
    "                initial_state: state,\n",
    "                lr: learning_rate}\n",
    "            train_loss, state, _ = sess.run([cost, final_state, train_op], feed)\n",
    "\n",
    "            # Show every <show_every_n_batches> batches\n",
    "            if (epoch_i * len(batches) + batch_i) % show_every_n_batches == 0:\n",
    "                print('Epoch {:>3} Batch {:>4}/{}   train_loss = {:.3f}'.format(\n",
    "                    epoch_i,\n",
    "                    batch_i,\n",
    "                    len(batches),\n",
    "                    train_loss))\n",
    "\n",
    "    # Save Model\n",
    "    saver = tf.train.Saver()\n",
    "    saver.save(sess, save_dir)\n",
    "    print('Model Trained and Saved')"
   ]
  },
  {
   "cell_type": "markdown",
   "metadata": {},
   "source": [
    "## Save Parameters\n",
    "Save `seq_length` and `save_dir` for generating a new TV script."
   ]
  },
  {
   "cell_type": "code",
   "execution_count": 17,
   "metadata": {
    "collapsed": true
   },
   "outputs": [],
   "source": [
    "\"\"\"\n",
    "DON'T MODIFY ANYTHING IN THIS CELL\n",
    "\"\"\"\n",
    "# Save parameters for checkpoint\n",
    "helper.save_params((seq_length, save_dir))"
   ]
  },
  {
   "cell_type": "markdown",
   "metadata": {},
   "source": [
    "# Checkpoint"
   ]
  },
  {
   "cell_type": "code",
   "execution_count": 18,
   "metadata": {
    "collapsed": true
   },
   "outputs": [],
   "source": [
    "\"\"\"\n",
    "DON'T MODIFY ANYTHING IN THIS CELL\n",
    "\"\"\"\n",
    "import tensorflow as tf\n",
    "import numpy as np\n",
    "import helper\n",
    "import problem_unittests as tests\n",
    "\n",
    "_, vocab_to_int, int_to_vocab, token_dict = helper.load_preprocess()\n",
    "seq_length, load_dir = helper.load_params()"
   ]
  },
  {
   "cell_type": "markdown",
   "metadata": {},
   "source": [
    "## Implement Generate Functions\n",
    "### Get Tensors\n",
    "Get tensors from `loaded_graph` using the function [`get_tensor_by_name()`](https://www.tensorflow.org/api_docs/python/tf/Graph#get_tensor_by_name).  Get the tensors using the following names:\n",
    "- \"input:0\"\n",
    "- \"initial_state:0\"\n",
    "- \"final_state:0\"\n",
    "- \"probs:0\"\n",
    "\n",
    "Return the tensors in the following tuple `(InputTensor, InitialStateTensor, FinalStateTensor, ProbsTensor)` "
   ]
  },
  {
   "cell_type": "code",
   "execution_count": 19,
   "metadata": {},
   "outputs": [
    {
     "name": "stdout",
     "output_type": "stream",
     "text": [
      "Tests Passed\n"
     ]
    }
   ],
   "source": [
    "def get_tensors(loaded_graph):\n",
    "    \"\"\"\n",
    "    Get input, initial state, final state, and probabilities tensor from <loaded_graph>\n",
    "    :param loaded_graph: TensorFlow graph loaded from file\n",
    "    :return: Tuple (InputTensor, InitialStateTensor, FinalStateTensor, ProbsTensor)\n",
    "    \"\"\"\n",
    "    # TODO: Implement Function\n",
    "    input = loaded_graph.get_tensor_by_name(\"input:0\")\n",
    "    initial_state = loaded_graph.get_tensor_by_name(\"initial_state:0\")\n",
    "    final_state = loaded_graph.get_tensor_by_name(\"final_state:0\")\n",
    "    probs = loaded_graph.get_tensor_by_name(\"probs:0\")\n",
    "    \n",
    "    return input, initial_state, final_state, probs\n",
    "\n",
    "\n",
    "\"\"\"\n",
    "DON'T MODIFY ANYTHING IN THIS CELL THAT IS BELOW THIS LINE\n",
    "\"\"\"\n",
    "tests.test_get_tensors(get_tensors)"
   ]
  },
  {
   "cell_type": "markdown",
   "metadata": {},
   "source": [
    "### Choose Word\n",
    "Implement the `pick_word()` function to select the next word using `probabilities`."
   ]
  },
  {
   "cell_type": "code",
   "execution_count": 20,
   "metadata": {},
   "outputs": [
    {
     "name": "stdout",
     "output_type": "stream",
     "text": [
      "Tests Passed\n"
     ]
    }
   ],
   "source": [
    "def pick_word(probabilities, int_to_vocab):\n",
    "    \"\"\"\n",
    "    Pick the next word in the generated text\n",
    "    :param probabilities: Probabilites of the next word\n",
    "    :param int_to_vocab: Dictionary of word ids as the keys and words as the values\n",
    "    :return: String of the predicted word\n",
    "    \"\"\"\n",
    "    # TODO: Implement Function\n",
    "    i = np.argmax(probabilities)\n",
    "    return int_to_vocab[i]\n",
    "\n",
    "\n",
    "\"\"\"\n",
    "DON'T MODIFY ANYTHING IN THIS CELL THAT IS BELOW THIS LINE\n",
    "\"\"\"\n",
    "tests.test_pick_word(pick_word)"
   ]
  },
  {
   "cell_type": "markdown",
   "metadata": {},
   "source": [
    "## Generate TV Script\n",
    "This will generate the TV script for you.  Set `gen_length` to the length of TV script you want to generate."
   ]
  },
  {
   "cell_type": "code",
   "execution_count": 21,
   "metadata": {},
   "outputs": [
    {
     "name": "stdout",
     "output_type": "stream",
     "text": [
      "INFO:tensorflow:Restoring parameters from ./save\n",
      "moe_szyslak: hey, just a sec, i'll check.(to everyone) amanda huggenkiss! hey, i'm looking for amanda huggenkiss! why can't i find amanda huggenkiss!\n",
      "barney_gumble: maybe your standards are too high.\n",
      "moe_szyslak: you little s. o. b., if i ever find out who you are i'm gonna shove a sausage down your throat and stick starving dogs in your butt!\n",
      "moe_szyslak: ah-ha, big mistake pal!(to self) i knew he'd slip up sooner or later.\n",
      "moe_szyslak: ah, yes. rusty and dull.\n",
      "moe_szyslak: barney, don't steal any beer while i'm gone.\n",
      "barney_gumble:(shaking his head) what kind of pathetic drunk do you take me for?(gasp) somebody spilled beer in this ashtray.(slurps it, then sighs)\n",
      "\n",
      "\n",
      "moe_szyslak: hey, homer, phone call.\n",
      "\n",
      "\n",
      "barney_gumble: uh-oh. my heart just stopped.(long beat) ah, there it goes.\n",
      "moe_szyslak: ivana tinkle. just a sec. ivana tinkle. ivana tinkle.\n"
     ]
    }
   ],
   "source": [
    "gen_length = 200\n",
    "# homer_simpson, moe_szyslak, or Barney_Gumble\n",
    "prime_word = 'moe_szyslak'\n",
    "\n",
    "\"\"\"\n",
    "DON'T MODIFY ANYTHING IN THIS CELL THAT IS BELOW THIS LINE\n",
    "\"\"\"\n",
    "loaded_graph = tf.Graph()\n",
    "with tf.Session(graph=loaded_graph) as sess:\n",
    "    # Load saved model\n",
    "    loader = tf.train.import_meta_graph(load_dir + '.meta')\n",
    "    loader.restore(sess, load_dir)\n",
    "\n",
    "    # Get Tensors from loaded model\n",
    "    input_text, initial_state, final_state, probs = get_tensors(loaded_graph)\n",
    "\n",
    "    # Sentences generation setup\n",
    "    gen_sentences = [prime_word + ':']\n",
    "    prev_state = sess.run(initial_state, {input_text: np.array([[1]])})\n",
    "\n",
    "    # Generate sentences\n",
    "    for n in range(gen_length):\n",
    "        # Dynamic Input\n",
    "        dyn_input = [[vocab_to_int[word] for word in gen_sentences[-seq_length:]]]\n",
    "        dyn_seq_length = len(dyn_input[0])\n",
    "\n",
    "        # Get Prediction\n",
    "        probabilities, prev_state = sess.run(\n",
    "            [probs, final_state],\n",
    "            {input_text: dyn_input, initial_state: prev_state})\n",
    "        \n",
    "        pred_word = pick_word(probabilities[dyn_seq_length-1], int_to_vocab)\n",
    "\n",
    "        gen_sentences.append(pred_word)\n",
    "    \n",
    "    # Remove tokens\n",
    "    tv_script = ' '.join(gen_sentences)\n",
    "    for key, token in token_dict.items():\n",
    "        ending = ' ' if key in ['\\n', '(', '\"'] else ''\n",
    "        tv_script = tv_script.replace(' ' + token.lower(), key)\n",
    "    tv_script = tv_script.replace('\\n ', '\\n')\n",
    "    tv_script = tv_script.replace('( ', '(')\n",
    "        \n",
    "    print(tv_script)"
   ]
  },
  {
   "cell_type": "markdown",
   "metadata": {},
   "source": [
    "# The TV Script is Nonsensical\n",
    "It's ok if the TV script doesn't make any sense.  We trained on less than a megabyte of text.  In order to get good results, you'll have to use a smaller vocabulary or get more data.  Luckly there's more data!  As we mentioned in the begging of this project, this is a subset of [another dataset](https://www.kaggle.com/wcukierski/the-simpsons-by-the-data).  We didn't have you train on all the data, because that would take too long.  However, you are free to train your neural network on all the data.  After you complete the project, of course.\n",
    "# Submitting This Project\n",
    "When submitting this project, make sure to run all the cells before saving the notebook. Save the notebook file as \"dlnd_tv_script_generation.ipynb\" and save it as a HTML file under \"File\" -> \"Download as\". Include the \"helper.py\" and \"problem_unittests.py\" files in your submission."
   ]
  }
 ],
 "metadata": {
  "kernelspec": {
   "display_name": "Python 3",
   "language": "python",
   "name": "python3"
  },
  "language_info": {
   "codemirror_mode": {
    "name": "ipython",
    "version": 3
   },
   "file_extension": ".py",
   "mimetype": "text/x-python",
   "name": "python",
   "nbconvert_exporter": "python",
   "pygments_lexer": "ipython3",
   "version": "3.5.3"
  },
  "widgets": {
   "state": {},
   "version": "1.1.2"
  }
 },
 "nbformat": 4,
 "nbformat_minor": 1
}
